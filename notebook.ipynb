{
 "cells": [
  {
   "cell_type": "code",
   "execution_count": 1,
   "metadata": {},
   "outputs": [],
   "source": [
    "import numpy as np\n",
    "import pandas as pd\n",
    "import matplotlib.pyplot as plt"
   ]
  },
  {
   "cell_type": "markdown",
   "metadata": {},
   "source": [
    "### Question 1"
   ]
  },
  {
   "cell_type": "code",
   "execution_count": 2,
   "metadata": {},
   "outputs": [],
   "source": [
    "a = 1 # Coefficient a \"Tortusity\"\n",
    "Rw = 0.04 # Water resistivity at formation temperature\n",
    "m = 1.8 # Slope Sw Picket Plot\n",
    "n = 2 # Assumption\n",
    "c1 = 0.45 # Constant capillary pressure equation\n",
    "c2 = 250 # Constant permeability equation\n",
    "c3 = 2.1 # Constant permeability equation\n",
    "c4 = 2 # Constant permeability equation\n",
    "c5 = 19.5 # Constant capillary pressure equation\n",
    "c6 = 1.7 # Constant capillary pressure equation\n",
    "\n",
    "Sw_1 = 1 #Water saturation = 100%\n",
    "Sw_50 = 0.5 #Water saturation = 50%\n",
    "Sw_25 = 0.25 #Water saturation = 25%\n",
    "\n",
    "CPS_20k = 20000 #Process speed constant = k / porosity = 20000\n",
    "CPS_2k = 2000 #Process speed constant = k / porosity = 2000\n",
    "CPS_200 = 200 #Process speed constant = k / porosity = 200\n",
    "CPS_20 = 20 #Process speed constant = k / porosity = 20"
   ]
  },
  {
   "cell_type": "code",
   "execution_count": 3,
   "metadata": {},
   "outputs": [
    {
     "data": {
      "text/html": [
       "<div>\n",
       "<style scoped>\n",
       "    .dataframe tbody tr th:only-of-type {\n",
       "        vertical-align: middle;\n",
       "    }\n",
       "\n",
       "    .dataframe tbody tr th {\n",
       "        vertical-align: top;\n",
       "    }\n",
       "\n",
       "    .dataframe thead th {\n",
       "        text-align: right;\n",
       "    }\n",
       "</style>\n",
       "<table border=\"1\" class=\"dataframe\">\n",
       "  <thead>\n",
       "    <tr style=\"text-align: right;\">\n",
       "      <th></th>\n",
       "      <th>Porosity</th>\n",
       "    </tr>\n",
       "  </thead>\n",
       "  <tbody>\n",
       "    <tr>\n",
       "      <th>0</th>\n",
       "      <td>0.01</td>\n",
       "    </tr>\n",
       "    <tr>\n",
       "      <th>1</th>\n",
       "      <td>1.00</td>\n",
       "    </tr>\n",
       "  </tbody>\n",
       "</table>\n",
       "</div>"
      ],
      "text/plain": [
       "   Porosity\n",
       "0      0.01\n",
       "1      1.00"
      ]
     },
     "execution_count": 3,
     "metadata": {},
     "output_type": "execute_result"
    }
   ],
   "source": [
    "data = {'Porosity': [0.01,1]}\n",
    "df = pd.DataFrame(data)\n",
    "df.head()"
   ]
  },
  {
   "cell_type": "code",
   "execution_count": 4,
   "metadata": {},
   "outputs": [],
   "source": [
    "def Rt (a,Rw,m,n,Sw,Porosity):\n",
    "    x = - np.log(Sw)*n -m*np.log(Porosity) + np.log(a*Rw)\n",
    "    Rt = np.exp(x)\n",
    "    return Rt"
   ]
  },
  {
   "cell_type": "code",
   "execution_count": 5,
   "metadata": {},
   "outputs": [
    {
     "data": {
      "text/html": [
       "<div>\n",
       "<style scoped>\n",
       "    .dataframe tbody tr th:only-of-type {\n",
       "        vertical-align: middle;\n",
       "    }\n",
       "\n",
       "    .dataframe tbody tr th {\n",
       "        vertical-align: top;\n",
       "    }\n",
       "\n",
       "    .dataframe thead th {\n",
       "        text-align: right;\n",
       "    }\n",
       "</style>\n",
       "<table border=\"1\" class=\"dataframe\">\n",
       "  <thead>\n",
       "    <tr style=\"text-align: right;\">\n",
       "      <th></th>\n",
       "      <th>Porosity</th>\n",
       "      <th>Rt_at_Sw_1</th>\n",
       "      <th>Rt_at_Sw_25</th>\n",
       "      <th>Rt_at_Sw_50</th>\n",
       "    </tr>\n",
       "  </thead>\n",
       "  <tbody>\n",
       "    <tr>\n",
       "      <th>0</th>\n",
       "      <td>0.01</td>\n",
       "      <td>159.242868</td>\n",
       "      <td>2547.885892</td>\n",
       "      <td>636.971473</td>\n",
       "    </tr>\n",
       "    <tr>\n",
       "      <th>1</th>\n",
       "      <td>1.00</td>\n",
       "      <td>0.040000</td>\n",
       "      <td>0.640000</td>\n",
       "      <td>0.160000</td>\n",
       "    </tr>\n",
       "  </tbody>\n",
       "</table>\n",
       "</div>"
      ],
      "text/plain": [
       "   Porosity  Rt_at_Sw_1  Rt_at_Sw_25  Rt_at_Sw_50\n",
       "0      0.01  159.242868  2547.885892   636.971473\n",
       "1      1.00    0.040000     0.640000     0.160000"
      ]
     },
     "execution_count": 5,
     "metadata": {},
     "output_type": "execute_result"
    }
   ],
   "source": [
    "df['Rt_at_Sw_1'] = Rt(a,Rw,m,n,Sw_1,df['Porosity'])\n",
    "df['Rt_at_Sw_25'] = Rt(a,Rw,m,n,Sw_25,df['Porosity'])\n",
    "df['Rt_at_Sw_50'] = Rt(a,Rw,m,n,Sw_50,df['Porosity'])\n",
    "\n",
    "df.head()"
   ]
  },
  {
   "cell_type": "code",
   "execution_count": 6,
   "metadata": {},
   "outputs": [],
   "source": [
    "data2 = {'ZONE': ['1','2','3','4','5','A'],\n",
    "        'Rt':[4,3.1,2.2,1,3.5,10],\n",
    "        'PHI':[0.176,0.21,0.17,0.16,0.06,0.048]\n",
    "        }\n",
    "df2=pd.DataFrame(data2)"
   ]
  },
  {
   "cell_type": "code",
   "execution_count": 7,
   "metadata": {},
   "outputs": [
    {
     "data": {
      "image/png": "[encoded data removed]",
      "text/plain": [
       "<Figure size 504x288 with 1 Axes>"
      ]
     },
     "metadata": {
      "needs_background": "light"
     },
     "output_type": "display_data"
    }
   ],
   "source": [
    "fig, ax = plt.subplots(figsize=(7,4))\n",
    "ax.plot(df['Rt_at_Sw_1'], df['Porosity'],color='black',linestyle= '-.')\n",
    "ax.plot(df['Rt_at_Sw_25'], df['Porosity'],color='red',linestyle= '-.')\n",
    "ax.plot(df['Rt_at_Sw_50'], df['Porosity'],color='blue',linestyle= '-.')\n",
    "ax.scatter(df2['Rt'],df2['PHI'],marker=\"o\",c='black')\n",
    "ax.set_ylabel(\"Porosity\")\n",
    "ax.set_xlabel('Resistivity Ohm/m')\n",
    "ax.legend(['Sw_1','Sw_25','Sw_50'])\n",
    "ax.set_xscale('log')\n",
    "ax.set_yscale('log')\n",
    "plt.xlim(0.1,10)\n",
    "plt.ylim(0.01,1)\n",
    "ax.grid()"
   ]
  },
  {
   "cell_type": "markdown",
   "metadata": {},
   "source": [
    "### Question 2"
   ]
  },
  {
   "cell_type": "markdown",
   "metadata": {},
   "source": [
    "m = 1.8"
   ]
  },
  {
   "cell_type": "markdown",
   "metadata": {},
   "source": [
    "### Question 3"
   ]
  },
  {
   "cell_type": "markdown",
   "metadata": {},
   "source": [
    "a*Rw = 0.04"
   ]
  },
  {
   "cell_type": "markdown",
   "metadata": {},
   "source": [
    "### Question 4"
   ]
  },
  {
   "cell_type": "code",
   "execution_count": 8,
   "metadata": {},
   "outputs": [],
   "source": [
    "def process_speed(a,Rw,m,n,CPS,c2,c3,c4,Porosity):\n",
    "    Rt = Porosity**(-c2*n -m + (n/c4)) * (a*Rw*(c2**-n)*(CPS**(n/c4)))\n",
    "    return Rt"
   ]
  },
  {
   "cell_type": "code",
   "execution_count": 9,
   "metadata": {},
   "outputs": [
    {
     "data": {
      "text/html": [
       "<div>\n",
       "<style scoped>\n",
       "    .dataframe tbody tr th:only-of-type {\n",
       "        vertical-align: middle;\n",
       "    }\n",
       "\n",
       "    .dataframe tbody tr th {\n",
       "        vertical-align: top;\n",
       "    }\n",
       "\n",
       "    .dataframe thead th {\n",
       "        text-align: right;\n",
       "    }\n",
       "</style>\n",
       "<table border=\"1\" class=\"dataframe\">\n",
       "  <thead>\n",
       "    <tr style=\"text-align: right;\">\n",
       "      <th></th>\n",
       "      <th>Porosity</th>\n",
       "      <th>Rt_at_Sw_1</th>\n",
       "      <th>Rt_at_Sw_25</th>\n",
       "      <th>Rt_at_Sw_50</th>\n",
       "      <th>Rt_at_CPS_20k</th>\n",
       "      <th>Rt_at_CPS_2k</th>\n",
       "      <th>Rt_at_CPS_200</th>\n",
       "      <th>Rt_at_CPS_20</th>\n",
       "    </tr>\n",
       "  </thead>\n",
       "  <tbody>\n",
       "    <tr>\n",
       "      <th>0</th>\n",
       "      <td>0.01</td>\n",
       "      <td>159.242868</td>\n",
       "      <td>2547.885892</td>\n",
       "      <td>636.971473</td>\n",
       "      <td>inf</td>\n",
       "      <td>inf</td>\n",
       "      <td>inf</td>\n",
       "      <td>inf</td>\n",
       "    </tr>\n",
       "    <tr>\n",
       "      <th>1</th>\n",
       "      <td>1.00</td>\n",
       "      <td>0.040000</td>\n",
       "      <td>0.640000</td>\n",
       "      <td>0.160000</td>\n",
       "      <td>0.0128</td>\n",
       "      <td>0.00128</td>\n",
       "      <td>0.000128</td>\n",
       "      <td>0.000013</td>\n",
       "    </tr>\n",
       "  </tbody>\n",
       "</table>\n",
       "</div>"
      ],
      "text/plain": [
       "   Porosity  Rt_at_Sw_1  Rt_at_Sw_25  Rt_at_Sw_50  Rt_at_CPS_20k  \\\n",
       "0      0.01  159.242868  2547.885892   636.971473            inf   \n",
       "1      1.00    0.040000     0.640000     0.160000         0.0128   \n",
       "\n",
       "   Rt_at_CPS_2k  Rt_at_CPS_200  Rt_at_CPS_20  \n",
       "0           inf            inf           inf  \n",
       "1       0.00128       0.000128      0.000013  "
      ]
     },
     "execution_count": 9,
     "metadata": {},
     "output_type": "execute_result"
    }
   ],
   "source": [
    "df['Rt_at_CPS_20k'] = process_speed(a,Rw,m,n,CPS_20k,c2,c3,c4,df['Porosity'])\n",
    "df['Rt_at_CPS_2k'] = process_speed(a,Rw,m,n,CPS_2k,c2,c3,c4,df['Porosity'])\n",
    "df['Rt_at_CPS_200'] = process_speed(a,Rw,m,n,CPS_200,c2,c3,c4,df['Porosity'])\n",
    "df['Rt_at_CPS_20'] = process_speed(a,Rw,m,n,CPS_20,c2,c3,c4,df['Porosity'])\n",
    "df.head()"
   ]
  },
  {
   "cell_type": "markdown",
   "metadata": {},
   "source": [
    "The computer represent the answer as inf ! So I will put them manually."
   ]
  },
  {
   "cell_type": "code",
   "execution_count": 10,
   "metadata": {},
   "outputs": [],
   "source": [
    "df['Rt_at_CPS_20k'][0] = 128000000\n",
    "df['Rt_at_CPS_2k'][0] = 12800000\n",
    "df['Rt_at_CPS_200'][0] = 1280000\n",
    "df['Rt_at_CPS_20'][0] = 128000"
   ]
  },
  {
   "cell_type": "code",
   "execution_count": 11,
   "metadata": {},
   "outputs": [
    {
     "data": {
      "text/html": [
       "<div>\n",
       "<style scoped>\n",
       "    .dataframe tbody tr th:only-of-type {\n",
       "        vertical-align: middle;\n",
       "    }\n",
       "\n",
       "    .dataframe tbody tr th {\n",
       "        vertical-align: top;\n",
       "    }\n",
       "\n",
       "    .dataframe thead th {\n",
       "        text-align: right;\n",
       "    }\n",
       "</style>\n",
       "<table border=\"1\" class=\"dataframe\">\n",
       "  <thead>\n",
       "    <tr style=\"text-align: right;\">\n",
       "      <th></th>\n",
       "      <th>Porosity</th>\n",
       "      <th>Rt_at_Sw_1</th>\n",
       "      <th>Rt_at_Sw_25</th>\n",
       "      <th>Rt_at_Sw_50</th>\n",
       "      <th>Rt_at_CPS_20k</th>\n",
       "      <th>Rt_at_CPS_2k</th>\n",
       "      <th>Rt_at_CPS_200</th>\n",
       "      <th>Rt_at_CPS_20</th>\n",
       "    </tr>\n",
       "  </thead>\n",
       "  <tbody>\n",
       "    <tr>\n",
       "      <th>0</th>\n",
       "      <td>0.01</td>\n",
       "      <td>159.242868</td>\n",
       "      <td>2547.885892</td>\n",
       "      <td>636.971473</td>\n",
       "      <td>1.280000e+08</td>\n",
       "      <td>1.280000e+07</td>\n",
       "      <td>1.280000e+06</td>\n",
       "      <td>128000.000000</td>\n",
       "    </tr>\n",
       "    <tr>\n",
       "      <th>1</th>\n",
       "      <td>1.00</td>\n",
       "      <td>0.040000</td>\n",
       "      <td>0.640000</td>\n",
       "      <td>0.160000</td>\n",
       "      <td>1.280000e-02</td>\n",
       "      <td>1.280000e-03</td>\n",
       "      <td>1.280000e-04</td>\n",
       "      <td>0.000013</td>\n",
       "    </tr>\n",
       "  </tbody>\n",
       "</table>\n",
       "</div>"
      ],
      "text/plain": [
       "   Porosity  Rt_at_Sw_1  Rt_at_Sw_25  Rt_at_Sw_50  Rt_at_CPS_20k  \\\n",
       "0      0.01  159.242868  2547.885892   636.971473   1.280000e+08   \n",
       "1      1.00    0.040000     0.640000     0.160000   1.280000e-02   \n",
       "\n",
       "   Rt_at_CPS_2k  Rt_at_CPS_200   Rt_at_CPS_20  \n",
       "0  1.280000e+07   1.280000e+06  128000.000000  \n",
       "1  1.280000e-03   1.280000e-04       0.000013  "
      ]
     },
     "execution_count": 11,
     "metadata": {},
     "output_type": "execute_result"
    }
   ],
   "source": [
    "df"
   ]
  },
  {
   "cell_type": "code",
   "execution_count": 16,
   "metadata": {},
   "outputs": [
    {
     "data": {
      "image/png": "[encoded data removed]",
      "text/plain": [
       "<Figure size 504x288 with 1 Axes>"
      ]
     },
     "metadata": {
      "needs_background": "light"
     },
     "output_type": "display_data"
    }
   ],
   "source": [
    "fig, ax = plt.subplots(figsize=(7,4))\n",
    "ax.plot(df['Rt_at_Sw_1'], df['Porosity'],color='green',linestyle= '-.')\n",
    "ax.plot(df['Rt_at_Sw_25'], df['Porosity'],color='red',linestyle= '-.')\n",
    "ax.plot(df['Rt_at_Sw_50'], df['Porosity'],color='blue',linestyle= '-.')\n",
    "ax.scatter(df2['Rt'],df2['PHI'],marker=\"o\",c='black')\n",
    "ax.plot(df['Rt_at_CPS_20k'], df['Porosity'],color='black',linestyle= '-')\n",
    "ax.plot(df['Rt_at_CPS_2k'], df['Porosity'],color='black',linestyle= '-')\n",
    "ax.plot(df['Rt_at_CPS_200'], df['Porosity'],color='black',linestyle= '-')\n",
    "ax.plot(df['Rt_at_CPS_20'], df['Porosity'],color='black',linestyle= '-')\n",
    "ax.set_ylabel(\"Porosity\")\n",
    "ax.set_xlabel('Resistivity Ohm/m')\n",
    "ax.legend(['Sw_1','Sw_25','Sw_50'])\n",
    "ax.set_xscale('log')\n",
    "ax.set_yscale('log')\n",
    "plt.xlim(0.1,100)\n",
    "plt.ylim(0.01,1)\n",
    "ax.grid()"
   ]
  },
  {
   "cell_type": "markdown",
   "metadata": {},
   "source": [
    "### Question 5"
   ]
  },
  {
   "cell_type": "code",
   "execution_count": 17,
   "metadata": {},
   "outputs": [],
   "source": [
    "def Pc(A,CPS,c1):\n",
    "    Pc = A*((CPS*0.01)**-c1)\n",
    "    return Pc\n",
    "def A(c5,Sw,c6):\n",
    "    A= c5*(Sw**-c6)\n",
    "    return A"
   ]
  },
  {
   "cell_type": "code",
   "execution_count": 65,
   "metadata": {},
   "outputs": [
    {
     "data": {
      "text/html": [
       "<div>\n",
       "<style scoped>\n",
       "    .dataframe tbody tr th:only-of-type {\n",
       "        vertical-align: middle;\n",
       "    }\n",
       "\n",
       "    .dataframe tbody tr th {\n",
       "        vertical-align: top;\n",
       "    }\n",
       "\n",
       "    .dataframe thead th {\n",
       "        text-align: right;\n",
       "    }\n",
       "</style>\n",
       "<table border=\"1\" class=\"dataframe\">\n",
       "  <thead>\n",
       "    <tr style=\"text-align: right;\">\n",
       "      <th></th>\n",
       "      <th>Sw</th>\n",
       "      <th>A</th>\n",
       "      <th>Pc_2000</th>\n",
       "      <th>Pc_200</th>\n",
       "      <th>Pc_20</th>\n",
       "    </tr>\n",
       "  </thead>\n",
       "  <tbody>\n",
       "    <tr>\n",
       "      <th>0</th>\n",
       "      <td>0.10</td>\n",
       "      <td>977.315106</td>\n",
       "      <td>253.846461</td>\n",
       "      <td>715.436533</td>\n",
       "      <td>2016.374114</td>\n",
       "    </tr>\n",
       "    <tr>\n",
       "      <th>1</th>\n",
       "      <td>0.20</td>\n",
       "      <td>300.804008</td>\n",
       "      <td>78.130413</td>\n",
       "      <td>220.201423</td>\n",
       "      <td>620.611931</td>\n",
       "    </tr>\n",
       "    <tr>\n",
       "      <th>2</th>\n",
       "      <td>0.30</td>\n",
       "      <td>150.983149</td>\n",
       "      <td>39.216152</td>\n",
       "      <td>110.526134</td>\n",
       "      <td>311.504970</td>\n",
       "    </tr>\n",
       "    <tr>\n",
       "      <th>3</th>\n",
       "      <td>0.40</td>\n",
       "      <td>92.583294</td>\n",
       "      <td>24.047455</td>\n",
       "      <td>67.774938</td>\n",
       "      <td>191.015728</td>\n",
       "    </tr>\n",
       "    <tr>\n",
       "      <th>4</th>\n",
       "      <td>0.50</td>\n",
       "      <td>63.355687</td>\n",
       "      <td>16.455918</td>\n",
       "      <td>46.379077</td>\n",
       "      <td>130.714000</td>\n",
       "    </tr>\n",
       "    <tr>\n",
       "      <th>5</th>\n",
       "      <td>0.55</td>\n",
       "      <td>53.878815</td>\n",
       "      <td>13.994408</td>\n",
       "      <td>39.441602</td>\n",
       "      <td>111.161537</td>\n",
       "    </tr>\n",
       "    <tr>\n",
       "      <th>6</th>\n",
       "      <td>0.60</td>\n",
       "      <td>46.470515</td>\n",
       "      <td>12.070187</td>\n",
       "      <td>34.018408</td>\n",
       "      <td>95.876901</td>\n",
       "    </tr>\n",
       "    <tr>\n",
       "      <th>7</th>\n",
       "      <td>0.65</td>\n",
       "      <td>40.558502</td>\n",
       "      <td>10.534609</td>\n",
       "      <td>29.690561</td>\n",
       "      <td>83.679371</td>\n",
       "    </tr>\n",
       "    <tr>\n",
       "      <th>8</th>\n",
       "      <td>0.70</td>\n",
       "      <td>35.757566</td>\n",
       "      <td>9.287620</td>\n",
       "      <td>26.176070</td>\n",
       "      <td>73.774189</td>\n",
       "    </tr>\n",
       "    <tr>\n",
       "      <th>9</th>\n",
       "      <td>0.75</td>\n",
       "      <td>31.800245</td>\n",
       "      <td>8.259751</td>\n",
       "      <td>23.279142</td>\n",
       "      <td>65.609536</td>\n",
       "    </tr>\n",
       "    <tr>\n",
       "      <th>10</th>\n",
       "      <td>0.80</td>\n",
       "      <td>28.495851</td>\n",
       "      <td>7.401473</td>\n",
       "      <td>20.860184</td>\n",
       "      <td>58.791987</td>\n",
       "    </tr>\n",
       "    <tr>\n",
       "      <th>11</th>\n",
       "      <td>0.85</td>\n",
       "      <td>25.705286</td>\n",
       "      <td>6.676655</td>\n",
       "      <td>18.817371</td>\n",
       "      <td>53.034556</td>\n",
       "    </tr>\n",
       "    <tr>\n",
       "      <th>12</th>\n",
       "      <td>0.90</td>\n",
       "      <td>23.325037</td>\n",
       "      <td>6.058413</td>\n",
       "      <td>17.074927</td>\n",
       "      <td>48.123682</td>\n",
       "    </tr>\n",
       "    <tr>\n",
       "      <th>13</th>\n",
       "      <td>0.95</td>\n",
       "      <td>21.276710</td>\n",
       "      <td>5.526383</td>\n",
       "      <td>15.575464</td>\n",
       "      <td>43.897621</td>\n",
       "    </tr>\n",
       "    <tr>\n",
       "      <th>14</th>\n",
       "      <td>1.00</td>\n",
       "      <td>19.500000</td>\n",
       "      <td>0.000000</td>\n",
       "      <td>0.000000</td>\n",
       "      <td>0.000000</td>\n",
       "    </tr>\n",
       "  </tbody>\n",
       "</table>\n",
       "</div>"
      ],
      "text/plain": [
       "      Sw           A     Pc_2000      Pc_200        Pc_20\n",
       "0   0.10  977.315106  253.846461  715.436533  2016.374114\n",
       "1   0.20  300.804008   78.130413  220.201423   620.611931\n",
       "2   0.30  150.983149   39.216152  110.526134   311.504970\n",
       "3   0.40   92.583294   24.047455   67.774938   191.015728\n",
       "4   0.50   63.355687   16.455918   46.379077   130.714000\n",
       "5   0.55   53.878815   13.994408   39.441602   111.161537\n",
       "6   0.60   46.470515   12.070187   34.018408    95.876901\n",
       "7   0.65   40.558502   10.534609   29.690561    83.679371\n",
       "8   0.70   35.757566    9.287620   26.176070    73.774189\n",
       "9   0.75   31.800245    8.259751   23.279142    65.609536\n",
       "10  0.80   28.495851    7.401473   20.860184    58.791987\n",
       "11  0.85   25.705286    6.676655   18.817371    53.034556\n",
       "12  0.90   23.325037    6.058413   17.074927    48.123682\n",
       "13  0.95   21.276710    5.526383   15.575464    43.897621\n",
       "14  1.00   19.500000    0.000000    0.000000     0.000000"
      ]
     },
     "execution_count": 65,
     "metadata": {},
     "output_type": "execute_result"
    }
   ],
   "source": [
    "dx={'Sw':[0.1,0.2,0.3,0.4,0.5,0.55,0.6,0.65,0.7,0.75,0.8,0.85,0.9,0.95,1]}\n",
    "dfx=pd.DataFrame(dx)\n",
    "\n",
    "dfx['A']=A(c5,dfx['Sw'],c6)\n",
    "dfx['Pc_2000'] = Pc(dfx['A'],CPS_2k,c1)\n",
    "dfx['Pc_200'] = Pc(dfx['A'],CPS_200,c1)\n",
    "dfx['Pc_20'] = Pc(dfx['A'],CPS_20,c1)\n",
    "dfx['Pc_2000'][14]=0\n",
    "dfx['Pc_200'][14]=0\n",
    "dfx['Pc_20'][14]=0\n",
    "ax.set_xscale('log')\n",
    "ax.set_yscale('log')\n",
    "dfx"
   ]
  },
  {
   "cell_type": "code",
   "execution_count": 67,
   "metadata": {},
   "outputs": [
    {
     "data": {
      "image/png": "[encoded data removed]",
      "text/plain": [
       "<Figure size 288x504 with 1 Axes>"
      ]
     },
     "metadata": {
      "needs_background": "light"
     },
     "output_type": "display_data"
    }
   ],
   "source": [
    "fig, ax = plt.subplots(figsize=(4,7))\n",
    "ax.plot(dfx['Sw'], dfx['Pc_2000'],color='green',linestyle= '-')\n",
    "ax.plot(dfx['Sw'], dfx['Pc_200'],color='red',linestyle= '-')\n",
    "ax.plot(dfx['Sw'], dfx['Pc_20'],color='blue',linestyle= '-')\n",
    "ax.scatter(dfx['Sw'], dfx['Pc_20'],marker=\"s\",c='black')\n",
    "ax.scatter(dfx['Sw'], dfx['Pc_200'],marker=\"s\",c='black')\n",
    "ax.scatter(dfx['Sw'], dfx['Pc_2000'],marker=\"s\",c='black')\n",
    "ax.set_ylabel(\"Capillary Pressure, psi\")\n",
    "ax.set_xlabel('Water Saturation')\n",
    "ax.legend(['Pc_2000','Pc_200','Pc_20'])\n",
    "\n",
    "plt.xlim(0,1)\n",
    "plt.ylim(0,100)\n",
    "ax.grid()"
   ]
  },
  {
   "cell_type": "code",
   "execution_count": null,
   "metadata": {},
   "outputs": [],
   "source": []
  }
 ],
 "metadata": {
  "kernelspec": {
   "display_name": "Python 3",
   "language": "python",
   "name": "python3"
  },
  "language_info": {
   "codemirror_mode": {
    "name": "ipython",
    "version": 3
   },
   "file_extension": ".py",
   "mimetype": "text/x-python",
   "name": "python",
   "nbconvert_exporter": "python",
   "pygments_lexer": "ipython3",
   "version": "3.7.6"
  }
 },
 "nbformat": 4,
 "nbformat_minor": 4
}
